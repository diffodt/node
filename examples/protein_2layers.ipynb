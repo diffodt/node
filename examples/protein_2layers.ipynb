{
 "cells": [
  {
   "cell_type": "code",
   "execution_count": 1,
   "metadata": {
    "scrolled": false
   },
   "outputs": [
    {
     "name": "stdout",
     "output_type": "stream",
     "text": [
      "env: CUDA_VISIBLE_DEVICES=1\n",
      "experiment: protein_odst_deep_2019.05.23_10:40\n"
     ]
    }
   ],
   "source": [
    "%load_ext autoreload\n",
    "%autoreload 2\n",
    "%env CUDA_VISIBLE_DEVICES=1\n",
    "import os, sys\n",
    "import time\n",
    "sys.path.insert(0, '..')\n",
    "import numpy as np\n",
    "import matplotlib.pyplot as plt\n",
    "%matplotlib inline\n",
    "import lib\n",
    "import torch, torch.nn as nn\n",
    "import torch.nn.functional as F\n",
    "from qhoptim.pyt import QHAdam\n",
    "\n",
    "device = 'cuda' if torch.cuda.is_available() else 'cpu'\n",
    "\n",
    "experiment_name = 'protein_odst_deep'\n",
    "experiment_name = '{}_{}.{:0>2d}.{:0>2d}_{:0>2d}:{:0>2d}'.format(experiment_name, *time.gmtime()[:5])\n",
    "print(\"experiment:\", experiment_name)"
   ]
  },
  {
   "cell_type": "code",
   "execution_count": 2,
   "metadata": {},
   "outputs": [],
   "source": [
    "data = lib.Dataset(\"PROTEIN\", random_state=1337, quantile_transform=True, quantile_noise=1e-3)\n",
    "num_features = data.X_train.shape[1]\n",
    "num_classes = len(set(data.y_train))\n",
    "\n",
    "model = nn.Sequential(\n",
    "    lib.DenseBlock(num_features, 512, num_layers=2, tree_dim=num_classes, depth=6,\n",
    "                   flatten_output=False, input_dropout=0.5),\n",
    "    lib.Lambda(lambda x: x.mean(dim=-2)),   # mean over trees, first 3 columns\n",
    "    \n",
    ").to(device)\n",
    "\n",
    "with torch.no_grad():\n",
    "    res = model(torch.as_tensor(data.X_train[:5000], device=device))\n",
    "    # trigger data-aware init\n",
    "    \n",
    "if torch.cuda.device_count() > 1:\n",
    "    model = nn.DataParallel(model)\n",
    "\n",
    "\n",
    "trainer = lib.Trainer(\n",
    "    model=model, loss_function=F.cross_entropy,\n",
    "    experiment_name=experiment_name,\n",
    "    warm_start=False,\n",
    "    Optimizer=QHAdam,\n",
    "    optimizer_params=dict(nus=(0.7, 1.0), betas=(0.95, 0.998)),\n",
    "    verbose=True,\n",
    "    n_last_checkpoints=5\n",
    ")"
   ]
  },
  {
   "cell_type": "code",
   "execution_count": 3,
   "metadata": {},
   "outputs": [],
   "source": [
    "from tqdm import tqdm\n",
    "from IPython.display import clear_output\n",
    "loss_history, err_history = [], []\n",
    "best_val_error = 1\n",
    "best_step = 0\n",
    "early_stopping_rounds = 7000\n",
    "report_frequency = 100"
   ]
  },
  {
   "cell_type": "code",
   "execution_count": 4,
   "metadata": {},
   "outputs": [
    {
     "data": {
      "image/png": "[encoded data removed]",
      "text/plain": [
       "<matplotlib.figure.Figure at 0x7f819c37c9e8>"
      ]
     },
     "metadata": {},
     "output_type": "display_data"
    },
    {
     "name": "stdout",
     "output_type": "stream",
     "text": [
      "Loss 0.56601\n",
      "Val Error rate: 0.27795\n",
      "BREAK. There is no improvment for 7000 steps\n",
      "Best step:  17000\n",
      "Best Val Error rate: 0.27425\n"
     ]
    }
   ],
   "source": [
    "for batch in lib.iterate_minibatches(data.X_train, data.y_train, batch_size=512, \n",
    "                                                shuffle=True, epochs=float('inf')):\n",
    "    metrics = trainer.train_on_batch(*batch, device=device)\n",
    "    \n",
    "    loss_history.append(metrics['loss'])\n",
    "\n",
    "    if trainer.step % report_frequency == 0:\n",
    "        trainer.save_checkpoint()\n",
    "        trainer.average_checkpoints(out_tag='avg')\n",
    "        trainer.load_checkpoint(tag='avg')\n",
    "        error_rate = trainer.evaluate_classification_error(\n",
    "            data.X_valid, data.y_valid, device=device, batch_size=1024)\n",
    "        \n",
    "        if error_rate < best_val_error:\n",
    "            best_val_error = error_rate\n",
    "            best_step = trainer.step\n",
    "            trainer.save_checkpoint(tag='best')\n",
    "        \n",
    "        err_history.append(error_rate)\n",
    "        trainer.load_checkpoint()  # last\n",
    "        trainer.remove_old_temp_checkpoints()\n",
    "            \n",
    "        clear_output(True)\n",
    "        plt.figure(figsize=[12, 6])\n",
    "        plt.subplot(1, 2, 1)\n",
    "        plt.plot(loss_history)\n",
    "        plt.grid()\n",
    "        plt.subplot(1,2,2)\n",
    "        plt.plot(err_history)\n",
    "        plt.grid()\n",
    "        plt.show()\n",
    "        print(\"Loss %.5f\" % (metrics['loss']))\n",
    "        print(\"Val Error rate: %0.5f\" % (error_rate))\n",
    "        \n",
    "    if trainer.step > best_step + early_stopping_rounds:\n",
    "        print('BREAK. There is no improvment for {} steps'.format(early_stopping_rounds))\n",
    "        print(\"Best step: \", best_step)\n",
    "        print(\"Best Val Error rate: %0.5f\" % (best_val_error))\n",
    "        break"
   ]
  },
  {
   "cell_type": "code",
   "execution_count": 5,
   "metadata": {},
   "outputs": [
    {
     "name": "stdout",
     "output_type": "stream",
     "text": [
      "Loaded logs/protein_odst_deep_2019.05.23_10:40/checkpoint_best.pth\n",
      "Best step:  17000\n",
      "Test Error rate: 0.27503\n"
     ]
    }
   ],
   "source": [
    "trainer.load_checkpoint(tag='best')\n",
    "model.train(False)\n",
    "error_rate = trainer.evaluate_classification_error(data.X_test, data.y_test, device=device, batch_size=512)\n",
    "print('Best step: ', trainer.step)\n",
    "print(\"Test Error rate: %0.5f\" % (error_rate))"
   ]
  },
  {
   "cell_type": "code",
   "execution_count": null,
   "metadata": {},
   "outputs": [],
   "source": []
  }
 ],
 "metadata": {
  "kernelspec": {
   "display_name": "Python 3",
   "language": "python",
   "name": "python3"
  },
  "language_info": {
   "codemirror_mode": {
    "name": "ipython",
    "version": 3
   },
   "file_extension": ".py",
   "mimetype": "text/x-python",
   "name": "python",
   "nbconvert_exporter": "python",
   "pygments_lexer": "ipython3",
   "version": "3.6.4"
  }
 },
 "nbformat": 4,
 "nbformat_minor": 2
}
